{
 "cells": [
  {
   "attachments": {},
   "cell_type": "markdown",
   "metadata": {},
   "source": [
    "# Rockset Chat Message History\n",
    "\n",
    "This notebook goes over how to use [Rockset](https://rockset.com/docs) to store chat message history. \n",
    "\n",
    "To begin, with get your API key from the [Rockset console](https://console.rockset.com/apikeys). Find your API region for the Rockset [API reference](https://rockset.com/docs/rest-api#introduction)."
   ]
  },
  {
   "cell_type": "code",
   "execution_count": null,
   "metadata": {
    "vscode": {
     "languageId": "plaintext"
    }
   },
   "outputs": [],
   "source": [
    "from langchain.memory.chat_message_histories import RocksetChatMessageHistory\n",
    "from rockset import RocksetClient, Regions\n",
    "\n",
    "history = RocksetChatMessageHistory(\n",
    "    session_id=\"MySession\",\n",
    "    client=RocksetClient(\n",
    "        api_key=\"YOUR API KEY\", \n",
    "        host=Regions.usw2a1 # us-west-2 Oregon\n",
    "    ),\n",
    "    collection=\"langchain_demo\",\n",
    "    sync=True\n",
    ")\n",
    "history.add_user_message(\"hi!\")\n",
    "history.add_ai_message(\"whats up?\")\n",
    "print(history.messages)"
   ]
  },
  {
   "attachments": {},
   "cell_type": "markdown",
   "metadata": {},
   "source": [
    "The output should be something like:\n",
    "\n",
    "```python\n",
    "[\n",
    "    HumanMessage(content='hi!', additional_kwargs={'id': '2e62f1c2-e9f7-465e-b551-49bae07fe9f0'}, example=False), \n",
    "    AIMessage(content='whats up?', additional_kwargs={'id': 'b9be8eda-4c18-4cf8-81c3-e91e876927d0'}, example=False)\n",
    "]\n",
    "\n",
    "```"
   ]
  }
 ],
 "metadata": {
  "language_info": {
   "name": "python"
  },
  "orig_nbformat": 4
 },
 "nbformat": 4,
 "nbformat_minor": 2
}
